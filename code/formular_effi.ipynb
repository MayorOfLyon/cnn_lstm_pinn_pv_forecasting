{
 "cells": [
  {
   "cell_type": "code",
   "execution_count": 1,
   "metadata": {},
   "outputs": [],
   "source": [
    "import pandas as pd\n",
    "import numpy as np\n",
    "from scipy.optimize import curve_fit\n",
    "import matplotlib.pyplot as plt\n",
    "from scipy.optimize import minimize\n",
    "from geneticalgorithm import geneticalgorithm as ga"
   ]
  },
  {
   "cell_type": "code",
   "execution_count": 2,
   "metadata": {},
   "outputs": [],
   "source": [
    "def formular(X, A, a1, a2, a3, Beta):\n",
    "    S, T = X\n",
    "    coe = (a1 + a2 * S + a3 * np.log(S)) * (1 - Beta * (T -25))\n",
    "    Pm = coe * A * S\n",
    "    return Pm"
   ]
  },
  {
   "cell_type": "code",
   "execution_count": 3,
   "metadata": {},
   "outputs": [
    {
     "data": {
      "text/plain": [
       "(33856, 170)"
      ]
     },
     "execution_count": 3,
     "metadata": {},
     "output_type": "execute_result"
    }
   ],
   "source": [
    "i=4\n",
    "train = pd.read_csv('D:/dissertation/dataset/pre_dataset/train_{i}.csv'.format(i=i))\n",
    "train.shape"
   ]
  },
  {
   "cell_type": "code",
   "execution_count": 4,
   "metadata": {},
   "outputs": [],
   "source": [
    "train_ = train[\n",
    "    (train['实发辐照度'] >=0) & \n",
    "    (train['实发辐照度'].notna() &\n",
    "     train['实际功率']>0)\n",
    "]\n",
    "S = train_['实发辐照度']\n",
    "T = train_['温度.1']\n",
    "power = train_['实际功率']"
   ]
  },
  {
   "cell_type": "code",
   "execution_count": null,
   "metadata": {},
   "outputs": [],
   "source": [
    "def objective(params):\n",
    "    A, a1, a2, a3, Beta = params\n",
    "    Pm_pred = formular((S, T), A, a1, a2, a3, Beta)\n",
    "    return np.mean((Pm_pred - power) ** 2)\n",
    "\n",
    "# train1,2,3,4\n",
    "varbounds = np.array([\n",
    "    [0, 0.5],   # A\n",
    "    [0, 1],         # a1\n",
    "    [0, 1e-2],      # a2\n",
    "    [0, 0.05],       # a3\n",
    "    [0.003, 0.005]      # Beta\n",
    "])\n",
    "\n",
    "\n",
    "model = ga(function=objective, dimension=5, variable_type='real', variable_boundaries=varbounds, \n",
    "           algorithm_parameters={'max_num_iteration': 100,  # 增加最大迭代次数\n",
    "                                'population_size':100,    # 增大种群规模（默认可能为50）   \n",
    "                                'mutation_probability':0.2,  # 变异概率（默认0.1，可尝试0.05~0.2）\n",
    "                                'elit_ratio':0.01,        # 保留精英个体的比例\n",
    "                                'crossover_probability':0.7,  # 交叉概率（通常0.7~0.9）\n",
    "                                'parents_portion':0.3,    # 选择父代的比例\n",
    "                                'crossover_type':'uniform',  # 交叉方式（还可选'one_point'/'two_point'）\n",
    "                                'max_iteration_without_improv':None\n",
    "                                })\n",
    "model.run()\n",
    "A, a1, a2, a3, Beta = model.output_dict['variable']"
   ]
  },
  {
   "cell_type": "code",
   "execution_count": null,
   "metadata": {},
   "outputs": [],
   "source": [
    "# if i == 1:\n",
    "#     A, a1, a2, a3, Beta = 1.01598603e-02, 6.83690555e-01, 7.08087957e-06, 9.60380372e-03, 4.11147028e-03\n",
    "# elif i==2: \n",
    "#     A, a1, a2, a3, Beta = 6.61551883e-03, 9.95830719e-01, 5.17413010e-05, 3.28085781e-02, 4.51979587e-03\n",
    "# elif i==3: \n",
    "#     A, a1, a2, a3, Beta = 2.04982725e-02, 9.93145756e-01, 6.48898141e-04, 3.53278180e-02, 3.39234014e-03\n",
    "# elif i==4: \n",
    "#     A, a1, a2, a3, Beta = 5.81885884e-02, 5.61132154e-01, 2.75889664e-05, 1.26467258e-02, 3.62124689e-03"
   ]
  },
  {
   "cell_type": "code",
   "execution_count": 7,
   "metadata": {},
   "outputs": [
    {
     "name": "stderr",
     "output_type": "stream",
     "text": [
      "d:\\anaconda3\\envs\\dissertation\\lib\\site-packages\\pandas\\core\\arraylike.py:396: RuntimeWarning: divide by zero encountered in log\n",
      "  result = getattr(ufunc, method)(*inputs, **kwargs)\n"
     ]
    },
    {
     "data": {
      "text/plain": [
       "14.126623821088032"
      ]
     },
     "execution_count": 7,
     "metadata": {},
     "output_type": "execute_result"
    }
   ],
   "source": [
    "train['pred_power_effi'] = 0\n",
    "train.loc[train['实发辐照度'] > 0, 'pred_power_effi'] = formular(\n",
    "    (train['实发辐照度'], train['温度.1']), A, a1, a2, a3, Beta\n",
    ")\n",
    "# mse\n",
    "from sklearn.metrics import mean_squared_error\n",
    "mse = mean_squared_error(train['pred_power_effi'], train['实际功率'])\n",
    "mse"
   ]
  },
  {
   "cell_type": "code",
   "execution_count": 8,
   "metadata": {},
   "outputs": [],
   "source": [
    "# # train = train.drop('温度.1', axis=1)\n",
    "# train.to_csv('D:/dissertation/dataset/final_dataset/train_{i}.csv'.format(i=i), index=False)\n",
    "# train.shape"
   ]
  },
  {
   "cell_type": "code",
   "execution_count": 9,
   "metadata": {},
   "outputs": [],
   "source": [
    "# test\n",
    "test = pd.read_csv('../dataset/pre_dataset/test_{i}.csv'.format(i=i)) \n",
    "test['pred_power_effi'] = 0  # 初始化为0"
   ]
  },
  {
   "cell_type": "code",
   "execution_count": 10,
   "metadata": {},
   "outputs": [
    {
     "name": "stderr",
     "output_type": "stream",
     "text": [
      "d:\\anaconda3\\envs\\dissertation\\lib\\site-packages\\pandas\\core\\arraylike.py:396: RuntimeWarning: invalid value encountered in log\n",
      "  result = getattr(ufunc, method)(*inputs, **kwargs)\n"
     ]
    },
    {
     "data": {
      "text/plain": [
       "(8538, 171)"
      ]
     },
     "execution_count": 10,
     "metadata": {},
     "output_type": "execute_result"
    }
   ],
   "source": [
    "# 对于'实发辐照度'大于0的行，使用formular函数计算实际功率\n",
    "test.loc[test['实发辐照度'] > 0, 'pred_power_effi'] = formular(\n",
    "    (test['实发辐照度'], test['温度.1']), A, a1, a2, a3, Beta\n",
    ")\n",
    "# test = test.drop('温度.1', axis=1)\n",
    "test.shape"
   ]
  },
  {
   "cell_type": "code",
   "execution_count": 11,
   "metadata": {},
   "outputs": [],
   "source": [
    "import math\n",
    "from sklearn.metrics import mean_squared_error, mean_absolute_error\n",
    "def rmse(y_true, y_pred):\n",
    "    return math.sqrt(mean_squared_error(y_true, y_pred))"
   ]
  },
  {
   "cell_type": "code",
   "execution_count": 12,
   "metadata": {},
   "outputs": [
    {
     "name": "stdout",
     "output_type": "stream",
     "text": [
      "MSE: 46.4671, MAE: 4.9349, RMSE: 6.8167\n"
     ]
    }
   ],
   "source": [
    "from sklearn.metrics import mean_squared_error, mean_absolute_error\n",
    "mse = mean_squared_error(test['实际功率'], test['pred_power_effi'])\n",
    "mae = mean_absolute_error(test['实际功率'], test['pred_power_effi'])\n",
    "rmse = rmse(test['实际功率'], test['pred_power_effi'])\n",
    "print(f'MSE: {mse:.4f}, MAE: {mae:.4f}, RMSE: {rmse:.4f}')"
   ]
  },
  {
   "cell_type": "code",
   "execution_count": 13,
   "metadata": {},
   "outputs": [],
   "source": [
    "# test.to_csv('D:/dissertation/dataset/final_dataset/test_{i}.csv'.format(i=i), index=False)"
   ]
  }
 ],
 "metadata": {
  "kernelspec": {
   "display_name": "dissertation",
   "language": "python",
   "name": "python3"
  },
  "language_info": {
   "codemirror_mode": {
    "name": "ipython",
    "version": 3
   },
   "file_extension": ".py",
   "mimetype": "text/x-python",
   "name": "python",
   "nbconvert_exporter": "python",
   "pygments_lexer": "ipython3",
   "version": "3.8.20"
  }
 },
 "nbformat": 4,
 "nbformat_minor": 2
}
