{
 "cells": [
  {
   "cell_type": "code",
   "execution_count": 1,
   "metadata": {},
   "outputs": [],
   "source": [
    "import pandas as pd\n",
    "import numpy as np\n",
    "from scipy.optimize import curve_fit\n",
    "import matplotlib.pyplot as plt\n",
    "from scipy.optimize import minimize\n",
    "from geneticalgorithm import geneticalgorithm as ga"
   ]
  },
  {
   "cell_type": "code",
   "execution_count": 2,
   "metadata": {},
   "outputs": [],
   "source": [
    "def formular(X, Imsc, ns, npp, I0, A):\n",
    "    S, T = X\n",
    "    # 常数\n",
    "    k = 1.38 * 1e-23\n",
    "    # A = 1\n",
    "    q = 1.6 * 1e-19\n",
    "    # 公式\n",
    "    Im= Imsc * S / 1000 + 1.6 * 1e-3 * (T - 298)\n",
    "    Rs = ns * A * k * T / q * (np.log((npp * Im - Im + npp * I0) / npp * I0) + (npp-1)*npp*I0*Im / ((npp-1)*Im+npp*I0)) / (2 * Im)\n",
    "    Um = ns * A * k * T / q * np.log((npp * Im - Im + npp * I0) / npp * I0) - Im * Rs\n",
    "    Im = np.abs(Im)\n",
    "    Um = np.abs(Um)\n",
    "    Pm = Im * Um\n",
    "    return Pm"
   ]
  },
  {
   "cell_type": "code",
   "execution_count": 3,
   "metadata": {},
   "outputs": [
    {
     "data": {
      "text/plain": [
       "(53294, 172)"
      ]
     },
     "execution_count": 3,
     "metadata": {},
     "output_type": "execute_result"
    }
   ],
   "source": [
    "i=1\n",
    "train = pd.read_csv('D:/dissertation/dataset/final_dataset/train_{i}.csv'.format(i=i))\n",
    "train.shape"
   ]
  },
  {
   "cell_type": "code",
   "execution_count": 4,
   "metadata": {},
   "outputs": [],
   "source": [
    "train_ = train[\n",
    "    (train['实发辐照度'] >=0) & \n",
    "    (train['实发辐照度'].notna() &\n",
    "     train['实际功率']>0)\n",
    "]\n",
    "S = train_['实发辐照度']\n",
    "T = train_['温度.1']\n",
    "T = T + 273\n",
    "power = train_['实际功率']"
   ]
  },
  {
   "cell_type": "code",
   "execution_count": null,
   "metadata": {},
   "outputs": [],
   "source": [
    "def objective(params):\n",
    "    Imsc, ns, npp, I0, A = params\n",
    "    Pm_pred = formular((S, T), Imsc, ns, npp, I0, A)\n",
    "    return np.mean((Pm_pred - power) ** 2)\n",
    "\n",
    "# # train1,2,3,\n",
    "# varbounds = np.array([\n",
    "#     [0, 15],            # Imsc\n",
    "#     [5, 10],           # ns\n",
    "#     [1, 5],             # npp\n",
    "#     [1e-4, 1e-2],      # I0\n",
    "#     [1, 2]              # A\n",
    "# ])\n",
    "\n",
    "# train4\n",
    "varbounds = np.array([\n",
    "    [0, 20],            # Imsc\n",
    "    [5, 10],           # ns\n",
    "    [1, 5],             # npp\n",
    "    [1e-4, 1e-2],      # I0\n",
    "    [1, 2]              # A\n",
    "])\n",
    "\n",
    "model = ga(function=objective, dimension=5, variable_type='real', variable_boundaries=varbounds, \n",
    "           algorithm_parameters={'max_num_iteration': 100,  # 增加最大迭代次数\n",
    "                                'population_size':100,    # 增大种群规模（默认可能为50）   \n",
    "                                'mutation_probability':0.2,  # 变异概率（默认0.1，可尝试0.05~0.2）\n",
    "                                'elit_ratio':0.01,        # 保留精英个体的比例\n",
    "                                'crossover_probability':0.7,  # 交叉概率（通常0.7~0.9）\n",
    "                                'parents_portion':0.3,    # 选择父代的比例\n",
    "                                'crossover_type':'one_point',  # 交叉方式（还可选'one_point'/'two_point'）\n",
    "                                'max_iteration_without_improv':None\n",
    "                                })\n",
    "model.run()\n",
    "Imsc, ns, npp, I0, A = model.output_dict['variable']"
   ]
  },
  {
   "cell_type": "code",
   "execution_count": null,
   "metadata": {},
   "outputs": [],
   "source": [
    "# if i == 1:\n",
    "#     Imsc, ns, npp, I0, A = 1.35820600e+01, 9.03559829e+00, 1.19937217e+00, 9.66981160e-03, 1.44747693e+00\n",
    "# elif i==2: \n",
    "#     Imsc, ns, npp, I0, A = 1.49075359e+01, 9.61505593e+00, 2.81886732e+00,  8.26063407e-03, 1.91213751e+00\n",
    "# elif i==3: \n",
    "#     Imsc, ns, npp, I0, A = 1.48077387e+01, 9.93317152e+00, 1.00501179e+00, 2.51756279e-04, 1.93719431e+00\n",
    "# elif i==4: \n",
    "#     Imsc, ns, npp, I0, A = 1.97104746e+01, 9.54997229e+00, 1.00316405e+00, 1.14406498e-03, 1.96981975e+00"
   ]
  },
  {
   "cell_type": "code",
   "execution_count": null,
   "metadata": {},
   "outputs": [],
   "source": [
    "train['pred_power_cell'] = 0\n",
    "train.loc[train['实发辐照度'] > 0 & train['实发辐照度'].notna(), 'pred_power_cell'] = formular(\n",
    "    (train['实发辐照度'], train['温度.1']+273), Imsc, ns, npp, I0, A\n",
    ")\n",
    "train['pred_power_cell'] = train['pred_power_cell'].fillna(0)\n",
    "# train = train.drop('温度.1', axis=1)\n",
    "train.to_csv('D:/dissertation/dataset/final_dataset/train_{i}.csv'.format(i=i), index=False)\n",
    "train.shape"
   ]
  },
  {
   "cell_type": "code",
   "execution_count": 8,
   "metadata": {},
   "outputs": [],
   "source": [
    "import math\n",
    "from sklearn.metrics import mean_squared_error, mean_absolute_error\n",
    "def rmse(y_true, y_pred):\n",
    "    return math.sqrt(mean_squared_error(y_true, y_pred))"
   ]
  },
  {
   "cell_type": "code",
   "execution_count": null,
   "metadata": {},
   "outputs": [],
   "source": [
    "# mse\n",
    "from sklearn.metrics import mean_squared_error, mean_absolute_error\n",
    "mse = mean_squared_error(train['pred_power_cell'], train['实际功率'])\n",
    "\n",
    "mse = mean_squared_error(train['实际功率'], train['pred_power_cell'])\n",
    "mae = mean_absolute_error(train['实际功率'], train['pred_power_cell'])\n",
    "rmse = rmse(train['实际功率'], train['pred_power_cell'])\n",
    "print(f'MSE: {mse:.4f}, MAE: {mae:.4f}, RMSE: {rmse:.4f}')"
   ]
  },
  {
   "cell_type": "code",
   "execution_count": 10,
   "metadata": {},
   "outputs": [],
   "source": [
    "# test\n",
    "test = pd.read_csv('../dataset/final_dataset/test_{i}.csv'.format(i=i)) \n",
    "test['pred_power_cell'] = 0  # 初始化为0"
   ]
  },
  {
   "cell_type": "code",
   "execution_count": 11,
   "metadata": {},
   "outputs": [
    {
     "name": "stderr",
     "output_type": "stream",
     "text": [
      "d:\\anaconda3\\envs\\dissertation\\lib\\site-packages\\pandas\\core\\arraylike.py:396: RuntimeWarning: invalid value encountered in log\n",
      "  result = getattr(ufunc, method)(*inputs, **kwargs)\n"
     ]
    },
    {
     "data": {
      "text/plain": [
       "(13372, 172)"
      ]
     },
     "execution_count": 11,
     "metadata": {},
     "output_type": "execute_result"
    }
   ],
   "source": [
    "# 对于'实发辐照度'大于0的行，使用formular函数计算实际功率\n",
    "test.loc[test['实发辐照度'] > 0, 'pred_power_cell'] = formular(\n",
    "    (test['实发辐照度'], test['温度.1']+273), Imsc, ns, npp, I0, A\n",
    ")\n",
    "test['pred_power_cell'] = test['pred_power_cell'].fillna(0)\n",
    "# test = test.drop('温度.1', axis=1)\n",
    "test.shape"
   ]
  },
  {
   "cell_type": "code",
   "execution_count": 12,
   "metadata": {},
   "outputs": [
    {
     "name": "stdout",
     "output_type": "stream",
     "text": [
      "MSE: 1.6253, MAE: 0.8220, RMSE: 1.2749\n"
     ]
    }
   ],
   "source": [
    "# mse\n",
    "from sklearn.metrics import mean_squared_error, mean_absolute_error\n",
    "\n",
    "mse = mean_squared_error(test['实际功率'], test['pred_power_cell'])\n",
    "mae = mean_absolute_error(test['实际功率'], test['pred_power_cell'])\n",
    "rmse = rmse(test['实际功率'], test['pred_power_cell'])\n",
    "print(f'MSE: {mse:.4f}, MAE: {mae:.4f}, RMSE: {rmse:.4f}')"
   ]
  },
  {
   "cell_type": "code",
   "execution_count": null,
   "metadata": {},
   "outputs": [],
   "source": [
    "test.to_csv('D:/dissertation/dataset/final_dataset/test_{i}.csv'.format(i=i), index=False)"
   ]
  }
 ],
 "metadata": {
  "kernelspec": {
   "display_name": "dissertation",
   "language": "python",
   "name": "python3"
  },
  "language_info": {
   "codemirror_mode": {
    "name": "ipython",
    "version": 3
   },
   "file_extension": ".py",
   "mimetype": "text/x-python",
   "name": "python",
   "nbconvert_exporter": "python",
   "pygments_lexer": "ipython3",
   "version": "3.8.20"
  }
 },
 "nbformat": 4,
 "nbformat_minor": 2
}
